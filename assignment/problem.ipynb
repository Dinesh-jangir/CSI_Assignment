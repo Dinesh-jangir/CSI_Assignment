{
 "cells": [
  {
   "cell_type": "markdown",
   "id": "340d9577",
   "metadata": {},
   "source": [
    "## Problem "
   ]
  },
  {
   "cell_type": "markdown",
   "id": "5f73152c",
   "metadata": {},
   "source": [
    "#### Create lower triangular, upper triangular and pyramid containing the \"*\" character."
   ]
  },
  {
   "cell_type": "markdown",
   "id": "b9f8b957",
   "metadata": {},
   "source": [
    "### 1️ Lower Triangular"
   ]
  },
  {
   "cell_type": "code",
   "execution_count": 1,
   "id": "6af6fdb2",
   "metadata": {},
   "outputs": [
    {
     "name": "stdout",
     "output_type": "stream",
     "text": [
      "* \n",
      "* * \n",
      "* * * \n",
      "* * * * \n",
      "* * * * * \n"
     ]
    }
   ],
   "source": [
    "n = 5\n",
    "for i in range(1, n + 1):\n",
    "    print('* ' * i)\n"
   ]
  },
  {
   "cell_type": "markdown",
   "id": "2a3b07f5",
   "metadata": {},
   "source": [
    "### 2️ Upper Triangular"
   ]
  },
  {
   "cell_type": "code",
   "execution_count": null,
   "id": "47678eab",
   "metadata": {},
   "outputs": [
    {
     "name": "stdout",
     "output_type": "stream",
     "text": [
      "* * * * * \n",
      "* * * * \n",
      "* * * \n",
      "* * \n",
      "* \n"
     ]
    }
   ],
   "source": [
    "n = 5\n",
    "for i in range(n, 0, -1):\n",
    "    print('* ' * i)\n"
   ]
  },
  {
   "cell_type": "markdown",
   "id": "573f1f74",
   "metadata": {},
   "source": [
    "### 3️ Pyramid"
   ]
  },
  {
   "cell_type": "code",
   "execution_count": null,
   "id": "6de4a91b",
   "metadata": {},
   "outputs": [
    {
     "name": "stdout",
     "output_type": "stream",
     "text": [
      "    * \n",
      "   * * \n",
      "  * * * \n",
      " * * * * \n",
      "* * * * * \n"
     ]
    }
   ],
   "source": [
    "n = 5\n",
    "for i in range(1, n + 1):\n",
    "    print(' ' * (n - i) + '* ' * i)\n"
   ]
  },
  {
   "cell_type": "code",
   "execution_count": null,
   "id": "9b39c1a1",
   "metadata": {},
   "outputs": [],
   "source": []
  }
 ],
 "metadata": {
  "kernelspec": {
   "display_name": "CSI Project (venv)",
   "language": "python",
   "name": "venv"
  },
  "language_info": {
   "codemirror_mode": {
    "name": "ipython",
    "version": 3
   },
   "file_extension": ".py",
   "mimetype": "text/x-python",
   "name": "python",
   "nbconvert_exporter": "python",
   "pygments_lexer": "ipython3",
   "version": "3.12.7"
  }
 },
 "nbformat": 4,
 "nbformat_minor": 5
}
